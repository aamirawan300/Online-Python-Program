{
 "cells": [
  {
   "cell_type": "code",
   "execution_count": 1,
   "id": "f42f3b0d",
   "metadata": {},
   "outputs": [
    {
     "name": "stdout",
     "output_type": "stream",
     "text": [
      "Twinkle, twinkle, little star,\n",
      "         How I wonder what you are!\n",
      "                 Up above the world so high,\n",
      "                 Like a diamond in the sky.\n",
      "Twinkle, twinkle, little star,\n",
      "         How I wonder what you are\n"
     ]
    }
   ],
   "source": [
    "# Q no 1 : Write a Python program to print the following string in a specific format.\n",
    "\n",
    "print(\"Twinkle, twinkle, little star,\\n         How I wonder what you are!\\n                 Up above the world so high,\\n                 Like a diamond in the sky.\\nTwinkle, twinkle, little star,\\n         How I wonder what you are\");"
   ]
  },
  {
   "cell_type": "code",
   "execution_count": 2,
   "id": "070ba680",
   "metadata": {},
   "outputs": [
    {
     "name": "stdout",
     "output_type": "stream",
     "text": [
      "3.8.8 (default, Apr 13 2021, 15:08:03) [MSC v.1916 64 bit (AMD64)]\n"
     ]
    }
   ],
   "source": [
    "# Q no 2 : write a Python program to get the Python version you are using.\n",
    "\n",
    "import sys\n",
    "print(sys.version);"
   ]
  },
  {
   "cell_type": "code",
   "execution_count": 3,
   "id": "1e0be0ce",
   "metadata": {},
   "outputs": [
    {
     "name": "stdout",
     "output_type": "stream",
     "text": [
      "Current date and time : \n",
      "2021-10-24 04:05:39\n"
     ]
    }
   ],
   "source": [
    "# Q no 3: Write a Python program to display the current date and time.\n",
    "import datetime\n",
    "now = datetime.datetime.now()\n",
    "print (\"Current date and time : \")\n",
    "print (now.strftime(\"%Y-%m-%d %H:%M:%S\"))"
   ]
  },
  {
   "cell_type": "code",
   "execution_count": 4,
   "id": "b584ad9b",
   "metadata": {},
   "outputs": [
    {
     "name": "stdout",
     "output_type": "stream",
     "text": [
      "please type the radius of the circle8\n",
      "Area of the circle is: 200.96\n"
     ]
    }
   ],
   "source": [
    "# Q no 4 : Write a Python program which accepts the radius of a circle from the user and compute the area.\n",
    "pi= 3.14;\n",
    "r=int(input(\"please type the radius of the circle\"));\n",
    "Area= pi*(r**2);\n",
    "print(\"Area of the circle is:\" ,Area);"
   ]
  },
  {
   "cell_type": "code",
   "execution_count": 6,
   "id": "ae140e73",
   "metadata": {},
   "outputs": [
    {
     "name": "stdout",
     "output_type": "stream",
     "text": [
      " Enter your first name: Aamir\n",
      " Enter your last name: Zaib\n",
      "Reverse Order of name :  Zaib Aamir\n"
     ]
    }
   ],
   "source": [
    "# Q no 5 : Write a Python program which accepts the user's first and last name and print them inreverse order with a space between them.\n",
    "First_Name = input(\" Enter your first name: \");\n",
    "Last_Name = input(\" Enter your last name: \");\n",
    "print(\"Reverse Order of name : \",Last_Name + \" \" + First_Name);"
   ]
  },
  {
   "cell_type": "code",
   "execution_count": 8,
   "id": "f3aa1b2b",
   "metadata": {},
   "outputs": [
    {
     "name": "stdout",
     "output_type": "stream",
     "text": [
      "Enter first number : 12\n",
      "Enter second number: 13\n",
      "Addition of two numbers are: 25\n"
     ]
    }
   ],
   "source": [
    "#Q no 6 : Write a python program which takes two inputs from user and print them addition.\n",
    "X=int(input(\"Enter first number : \"));\n",
    "Y=int(input(\"Enter second number: \"));\n",
    "Z=X + Y ;\n",
    "print(\"Addition of two numbers are:\",Z);"
   ]
  },
  {
   "cell_type": "code",
   "execution_count": 10,
   "id": "5386f0ba",
   "metadata": {},
   "outputs": [
    {
     "name": "stdout",
     "output_type": "stream",
     "text": [
      "Enter marks of Isl: 80\n",
      "Enter marks of Eng: 80\n",
      "Enter marks of Maths: 80\n",
      "Enter marks of Urdu: 80\n",
      "Enter marks of Sindhi: 80\n",
      "total marks out of 500 are 400\n",
      "total percentage is 80.0\n",
      "Grade A+\n"
     ]
    }
   ],
   "source": [
    "# Q no 7 :Write a program which takes 5 inputs from user for different subject’s marks, total it\n",
    "#and generate mark sheet using grades?\n",
    "Isl = int(input(\"Enter marks of Isl: \"));\n",
    "Eng = int(input(\"Enter marks of Eng: \"));\n",
    "Maths= int(input(\"Enter marks of Maths: \"));\n",
    "Urdu= int(input(\"Enter marks of Urdu: \"));\n",
    "Sindhi= int(input(\"Enter marks of Sindhi: \"));\n",
    "total_Marks= (Isl+Eng+Maths+Urdu+Sindhi);\n",
    "print(\"total marks out of 500 are\",total_Marks);\n",
    "percentage = ((total_Marks/500)*100);\n",
    "print(\"total percentage is\",percentage);\n",
    "if percentage < 100 and percentage >= 80:\n",
    "    print(\"Grade A+\");\n",
    "elif percentage < 80 and percentage >= 70:\n",
    "    print(\"Grade A\");\n",
    "elif percentage < 70 and percentage >= 60:\n",
    "    print(\"Grade B\");\n",
    "elif percentage < 60 and percentage >= 50:\n",
    "    print(\"Grade C\");\n",
    "elif percentage < 50 and percentage >= 40:\n",
    "    print(\"Grade D\");\n",
    "elif percentage < 40 and percentage > 33:\n",
    "    print(\"Grade E\");\n",
    "elif percentage < 0 and percentage > 100:\n",
    "    print(\"you have enter wrong value\");\n",
    "else:\n",
    "    print(\"Fail\");"
   ]
  },
  {
   "cell_type": "code",
   "execution_count": 17,
   "id": "06dc3b6b",
   "metadata": {},
   "outputs": [
    {
     "name": "stdout",
     "output_type": "stream",
     "text": [
      "Enter a number: 15\n",
      "This is an odd number\n"
     ]
    }
   ],
   "source": [
    "#Q no 8: Write a program which take input from user and identify that the given number is even or odd?\n",
    "X=int(input(\"Enter a number: \"));\n",
    "if X%2==0:\n",
    "    print(\"This is an even number:\");\n",
    "else:\n",
    "    print(\"This is an odd number\")"
   ]
  },
  {
   "cell_type": "code",
   "execution_count": 19,
   "id": "3d0fc397",
   "metadata": {},
   "outputs": [
    {
     "name": "stdout",
     "output_type": "stream",
     "text": [
      "Length of the list is: 10\n"
     ]
    }
   ],
   "source": [
    "#Q no 9: Write a program which print the length of the list?\n",
    "List=[\"Aamir\",1,\"Ali\",2,\"Asim\",3,\"Arif\",4,\"Akber\",5]\n",
    "print(\"Length of the list is:\",len(List));"
   ]
  },
  {
   "cell_type": "code",
   "execution_count": 23,
   "id": "57d46706",
   "metadata": {},
   "outputs": [
    {
     "name": "stdout",
     "output_type": "stream",
     "text": [
      "Sum of elements in given list:  36\n"
     ]
    }
   ],
   "source": [
    "#Q no 10: Write a Python program to sum all the numeric items in a list?\n",
    "List = [1,3,5,7,9,11]\n",
    "Total=0\n",
    "for Index in range(0, len(List)):\n",
    "    Total =Total + List[Index]\n",
    "print(\"Sum of elements in given list: \", Total)"
   ]
  },
  {
   "cell_type": "code",
   "execution_count": 24,
   "id": "77c43d95",
   "metadata": {},
   "outputs": [
    {
     "name": "stdout",
     "output_type": "stream",
     "text": [
      "The largest number from list is 50\n"
     ]
    }
   ],
   "source": [
    "#Q no 11: Write a Python program to get the largest number from a numeric list.\n",
    "List=[2,12,22,32,50]\n",
    "List.sort()\n",
    "print(\"The largest number from list is\",List[-1]);"
   ]
  },
  {
   "cell_type": "code",
   "execution_count": 37,
   "id": "d28c2b15",
   "metadata": {},
   "outputs": [
    {
     "name": "stdout",
     "output_type": "stream",
     "text": [
      "Given List of Element  less than 5 are :   [1, 1, 2, 3]\n"
     ]
    }
   ],
   "source": [
    "a = [1, 1, 2, 3, 5, 8, 13, 21, 34, 55, 89]\n",
    "Elements=[Index for Index in a if Index <5]\n",
    "print(\"Given List of Element  less than 5 are :  \",Elements)"
   ]
  },
  {
   "cell_type": "code",
   "execution_count": null,
   "id": "a0a168b4",
   "metadata": {},
   "outputs": [],
   "source": []
  }
 ],
 "metadata": {
  "kernelspec": {
   "display_name": "Python 3",
   "language": "python",
   "name": "python3"
  },
  "language_info": {
   "codemirror_mode": {
    "name": "ipython",
    "version": 3
   },
   "file_extension": ".py",
   "mimetype": "text/x-python",
   "name": "python",
   "nbconvert_exporter": "python",
   "pygments_lexer": "ipython3",
   "version": "3.8.8"
  }
 },
 "nbformat": 4,
 "nbformat_minor": 5
}
