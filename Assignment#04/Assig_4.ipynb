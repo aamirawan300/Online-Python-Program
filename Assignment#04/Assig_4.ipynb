{
 "cells": [
  {
   "cell_type": "code",
   "execution_count": 6,
   "id": "fe467dd3",
   "metadata": {},
   "outputs": [
    {
     "name": "stdout",
     "output_type": "stream",
     "text": [
      "select an operation to perform\n",
      "+.Add\n",
      "-.Sub\n",
      "*.Mult\n",
      "/.Div\n",
      "*\n",
      "Enter the first number: 2\n",
      "Enter the second number: 5\n",
      "2 * 5 :  10\n"
     ]
    }
   ],
   "source": [
    "#1.Make a calculator using Python with addition , subtraction ,multiplication ,division and power.\n",
    "\n",
    "print(\"select an operation to perform\")\n",
    "print(\"+.Add\")\n",
    "print(\"-.Sub\")\n",
    "print(\"*.Mult\")\n",
    "print(\"/.Div\")\n",
    "operation=input()\n",
    "num1=int(input(\"Enter the first number: \"))\n",
    "num2=int(input(\"Enter the second number: \"))\n",
    "#operator=input(\"Enter any operator for operation +, -, *, /,** \")\n",
    "result=0\n",
    "if operation=='+':\n",
    " result=num1+num2;\n",
    "elif operation=='-':\n",
    " result=num1-num2;\n",
    "elif operation=='*':\n",
    " result=num1*num2;\n",
    "elif operation=='/':\n",
    " result=num1/num2;\n",
    "else:\n",
    " print(\"Your input is not supported\");\n",
    "print(num1,operation,num2,\": \",result) "
   ]
  },
  {
   "cell_type": "code",
   "execution_count": 3,
   "id": "5ef62e7a",
   "metadata": {},
   "outputs": [
    {
     "name": "stdout",
     "output_type": "stream",
     "text": [
      "Enter a numeric value to check whether it exist or not in list:  4\n",
      "Entered value Exists\n"
     ]
    }
   ],
   "source": [
    "# 2.Write a program to check if there is any numeric value in list using for loop\n",
    "list = [2,4,6,8,10]\n",
    "\n",
    "inp=int(input(\"Enter a numeric value to check whether it exist or not in list:  \"))\n",
    " \n",
    "for i in list:\n",
    "    if(i == inp):\n",
    "        print (\"Entered value Exists\")\n",
    "        break\n",
    "else:\n",
    "    print(\"not exist\")"
   ]
  },
  {
   "cell_type": "code",
   "execution_count": 18,
   "id": "3c5e6a8c",
   "metadata": {},
   "outputs": [
    {
     "name": "stdout",
     "output_type": "stream",
     "text": [
      "{1: 'a', 2: 'b', 3: 'c', 4: 'd', 5: 'e'}\n"
     ]
    }
   ],
   "source": [
    "# 3.Write a Python script to add a key to a dictionary\n",
    "\n",
    "a={1:'a',2:'b',3:'c',4:'d'}\n",
    "a[5]='e'\n",
    "print(a) \n"
   ]
  },
  {
   "cell_type": "code",
   "execution_count": 26,
   "id": "6d836dd7",
   "metadata": {},
   "outputs": [
    {
     "name": "stdout",
     "output_type": "stream",
     "text": [
      "the sum of values is:  15\n"
     ]
    }
   ],
   "source": [
    "# 4.Write a Python program to sum all the numeric items in a dictionary\n",
    "a={'aamir':1,'zaib':2,'zaviyar':3,'rahmeen':4,'umer':5}\n",
    "result=sum(a.values())\n",
    "print(\"the sum of values is: \",result)"
   ]
  },
  {
   "cell_type": "code",
   "execution_count": 38,
   "id": "c6d5d8fc",
   "metadata": {},
   "outputs": [
    {
     "name": "stdout",
     "output_type": "stream",
     "text": [
      "50\n",
      "40\n",
      "30\n",
      "20\n",
      "10\n"
     ]
    }
   ],
   "source": [
    "# 5. Write a program to identify duplicate values from list\n",
    "list=[10,20,30,40,50,60,50,40,30,20,10]\n",
    "dup_elem_list=[]\n",
    "for i in list:\n",
    "    if i not in dup_elem_list:\n",
    "        dup_elem_list.append(i)\n",
    "    else:\n",
    "        print(i)"
   ]
  },
  {
   "cell_type": "code",
   "execution_count": 45,
   "id": "ccd75e96",
   "metadata": {},
   "outputs": [
    {
     "name": "stdout",
     "output_type": "stream",
     "text": [
      "Enter the key you wanna check: d\n",
      "Entered Key exists\n"
     ]
    }
   ],
   "source": [
    "# 6.Write a Python script to check if a given key already exists in a dictionary\n",
    "dict = {\"a\":1,\"b\":2,\"c\":3,\"d\":4}\n",
    "User_input=input(\"Enter the key you wanna check: \")\n",
    "\n",
    "\n",
    "if User_input in dict:\n",
    "    print(\"Entered Key exists\") \n",
    "else:\n",
    "    print(\"Entered Key does not exist\")"
   ]
  },
  {
   "cell_type": "code",
   "execution_count": null,
   "id": "b0bf95cf",
   "metadata": {},
   "outputs": [],
   "source": []
  }
 ],
 "metadata": {
  "kernelspec": {
   "display_name": "Python 3",
   "language": "python",
   "name": "python3"
  },
  "language_info": {
   "codemirror_mode": {
    "name": "ipython",
    "version": 3
   },
   "file_extension": ".py",
   "mimetype": "text/x-python",
   "name": "python",
   "nbconvert_exporter": "python",
   "pygments_lexer": "ipython3",
   "version": "3.8.8"
  }
 },
 "nbformat": 4,
 "nbformat_minor": 5
}
